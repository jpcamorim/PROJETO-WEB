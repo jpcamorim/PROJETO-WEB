{
 "cells": [
  {
   "attachments": {},
   "cell_type": "markdown",
   "metadata": {},
   "source": [
    "Sites usados.\n",
    "- <link> https://getbootstrap.com/docs/5.3/getting-started/introduction/</link>\n",
    "- <link>https://flask.palletsprojects.com/en/2.2.x/quickstart/#a-minimal-application</link>"
   ]
  },
  {
   "attachments": {},
   "cell_type": "markdown",
   "metadata": {},
   "source": [
    "if __name__ == \"__main__\":<br>\n",
    "    app.run(debug=True)\n",
    "\n",
    "- função na qual irá rodar nossa aplicação WEB, sem ela o mesmo não irá rodar.\n",
    "- degub=Tru faz com que toda e qualquer alteração dentro do código seja repasado para o site de forma automático."
   ]
  },
  {
   "attachments": {},
   "cell_type": "markdown",
   "metadata": {},
   "source": [
    "Necessário Importar flask, render_templates, url_for, request , flash , redirect\n",
    "-  Flask, aplicativo que irá rodar toda nossa aplicação WEB\n",
    "- render_templates('nome do arquivo') irá substituir e subir nossos arquivos HTML para WEB, necessário colocar o mesmo nome do arquivo dentro da função.\n",
    "- Todos os arquivos HTML devem estar dentro de uma pasta chamada de templates, para que a função flask possa ler os arquivos.\n",
    "- url_for elá irá sempre pegar o nome do destinátario pela sua função feita, url_for('nome da função')\n",
    "- request será necessário para pegar uma informação dentro do HTML.\n",
    "- flash será usado para exibir mensagem\n",
    "- redirect será usado para redirecionar o usúario para a outro página caso a função seja executada."
   ]
  },
  {
   "attachments": {},
   "cell_type": "markdown",
   "metadata": {},
   "source": [
    "base.html\n",
    "Arquivo criado para armazenar todo nosso corpo HTML no nosso site.\n",
    "\n",
    "- Para realizar isso de modo que o flask consiga ver, necessário colocar {% %} colocando sempre o nome da função HTML, sempre colocando um {% end.. %} no final, para quee possa ser lida de maneira eficiente.\n",
    "- Use {% extends 'base.html' %} para que o flash consiga extender a outros arquivos dentro de templates.\n",
    "- Use {{ }} para uma raviável em Python, caso queira exibir uma várial dentro do seu arquivo HTML.\n"
   ]
  },
  {
   "attachments": {},
   "cell_type": "markdown",
   "metadata": {},
   "source": [
    "from flask_wtf import FlaskForm\n",
    "- FlaskFrom com esse biblioteca será mais facil fazer o formulário de login é criação de conta pois já estão prontos."
   ]
  },
  {
   "attachments": {},
   "cell_type": "markdown",
   "metadata": {},
   "source": [
    "from wtforms import StringField, PasswordField, SubmitField, BooleanField\n",
    "- StringField são campos de texto dentro do formulário\n",
    "- PasswordField campos da senha, quando o usuário for digitar, irá aparecer ******* \n",
    "- SubmitField para submeter o formulário \n",
    "- BooleanField ele irá lembrar a senha do usuario caso ele marque a opção. "
   ]
  },
  {
   "attachments": {},
   "cell_type": "markdown",
   "metadata": {},
   "source": [
    "from wtforms.validators import Email, EqualTo, DataRequired, Length\n",
    "- Email irá verificar todas as formas possiveis de email, sendo assim so aceitará um email válido. \n",
    "- EqualTo irá verificar se as senhas são iguais. EqualTo(\"nome da função na qual vc quer comparar.\").\n",
    "- DataRequired irá informar se e um campo obrigatório para o usuario preencher.\n",
    "- Length irá verificar o tamanho segundo um parâmetro que nós iremos passar de tamanho."
   ]
  },
  {
   "attachments": {},
   "cell_type": "markdown",
   "metadata": {},
   "source": [
    "app.config['SECRET_KEY'] = SECRET_KEY\n",
    "- Necessário passar esse parâmetro para todos os formulários para que alguém malicioso não venha a acessar o backend do site.\n",
    "- Para que efetivo é necessário alocar essa função abaixo de qualquer formulário, {{ (nome da função).csrf_token }}"
   ]
  },
  {
   "attachments": {},
   "cell_type": "markdown",
   "metadata": {},
   "source": [
    "Login.html<br>\n",
    "- Usei (class='form-group') para dar um estilo, uma cor estética mais bonita para o layout\n",
    "- Usei (class='form-group-label') para dar um estilo, uma cor estética mais bonita para o layout\n",
    "- (class='btn btn-primary') tratamento de butões\n",
    "- (class='form-check-input') tratamento de butões / (class='form-check-label')"
   ]
  },
  {
   "attachments": {},
   "cell_type": "markdown",
   "metadata": {},
   "source": [
    "methods=['GET', 'POST']\n",
    "- Um parâmetro que sempre é necessário passar para formulários, pois o padrão é somente o GET."
   ]
  },
  {
   "attachments": {},
   "cell_type": "markdown",
   "metadata": {},
   "source": [
    "from flask_bcrypt import Bcrypt\n",
    "- Irá criptografar nosso site, senhas."
   ]
  },
  {
   "attachments": {},
   "cell_type": "markdown",
   "metadata": {},
   "source": [
    "Arquivo TESTE <br>\n",
    "- Foi criado esse arquivo para uma melhor manipulação da criação ou remoção do banco de dados."
   ]
  },
  {
   "attachments": {},
   "cell_type": "markdown",
   "metadata": {},
   "source": [
    "Redicionamento inteligente de uma página\n",
    "- par_next = request.args.get(\"next\") o mesmo irá redirecionar a página caso o usúario não tenha realializado login na página, após o logim o mesmo será redirecionado para a página na qual ele clicou."
   ]
  },
  {
   "attachments": {},
   "cell_type": "markdown",
   "metadata": {},
   "source": [
    "from flask_wtf.file import FileField, FileAllowed\n",
    "- FileField ele irá abrir um pop-pap para escolher a imagem \n",
    "- FileAllowed e um validators\n",
    "- enctype=\"multipart/form-data\" passar esse parâmetro no form do html quando for subir qualquer arquivo.\n",
    "\n",
    "FileField(\"Atualizar Foto de Perfil\", validators=[FileAllowed(['jpg','png'])])"
   ]
  }
 ],
 "metadata": {
  "kernelspec": {
   "display_name": "venv",
   "language": "python",
   "name": "python3"
  },
  "language_info": {
   "name": "python",
   "version": "3.11.1"
  },
  "orig_nbformat": 4,
  "vscode": {
   "interpreter": {
    "hash": "a440e9b991f949b0c3148fc9a7e0b6e630a752acf3c39b851aca5237ed07a4fa"
   }
  }
 },
 "nbformat": 4,
 "nbformat_minor": 2
}
